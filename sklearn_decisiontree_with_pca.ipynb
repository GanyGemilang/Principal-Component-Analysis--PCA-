{
  "nbformat": 4,
  "nbformat_minor": 0,
  "metadata": {
    "colab": {
      "name": "sklearn_decisiontree_with_pca.ipynb",
      "provenance": [],
      "collapsed_sections": [],
      "toc_visible": true,
      "authorship_tag": "ABX9TyNj0ge/ueQo6MQCaEyJm6yC",
      "include_colab_link": true
    },
    "kernelspec": {
      "name": "python3",
      "display_name": "Python 3"
    }
  },
  "cells": [
    {
      "cell_type": "markdown",
      "metadata": {
        "id": "view-in-github",
        "colab_type": "text"
      },
      "source": [
        "<a href=\"https://colab.research.google.com/github/GanyGemilang/Principal-Component-Analysis--PCA-/blob/master/sklearn_decisiontree_with_pca.ipynb\" target=\"_parent\"><img src=\"https://colab.research.google.com/assets/colab-badge.svg\" alt=\"Open In Colab\"/></a>"
      ]
    },
    {
      "cell_type": "code",
      "metadata": {
        "id": "6L1PG4mZJTRn",
        "colab_type": "code",
        "colab": {}
      },
      "source": [
        "from sklearn.decomposition import PCA\n",
        "from sklearn.model_selection import train_test_split\n",
        "from sklearn import datasets"
      ],
      "execution_count": 0,
      "outputs": []
    },
    {
      "cell_type": "markdown",
      "metadata": {
        "id": "L3jB4Y_9KREU",
        "colab_type": "text"
      },
      "source": [
        "# membagi data menjadi train set dan test set"
      ]
    },
    {
      "cell_type": "code",
      "metadata": {
        "id": "hWDs4DA7JsI7",
        "colab_type": "code",
        "colab": {}
      },
      "source": [
        "iris = datasets.load_iris()\n",
        "atribut = iris.data\n",
        "label = iris.target\n",
        "\n",
        "# bagi data menjadi trainset dan test set\n",
        "X_train, X_test, y_train, y_test = train_test_split(atribut, label, test_size=0.2)"
      ],
      "execution_count": 0,
      "outputs": []
    },
    {
      "cell_type": "markdown",
      "metadata": {
        "id": "2bNeb5deKX9u",
        "colab_type": "text"
      },
      "source": [
        "# model Decision Tree dan menghitung akurasinya tanpa menggunakan PCA"
      ]
    },
    {
      "cell_type": "code",
      "metadata": {
        "id": "y4nT55kNKL0S",
        "colab_type": "code",
        "outputId": "1ea0f4ce-738d-47fe-d27f-2cc81e6e4afd",
        "colab": {
          "base_uri": "https://localhost:8080/",
          "height": 36
        }
      },
      "source": [
        "from sklearn import tree\n",
        "decision_tree = tree.DecisionTreeClassifier()\n",
        "model_pertama = decision_tree.fit(X_train, y_train)\n",
        "model_pertama.score(X_test, y_test)"
      ],
      "execution_count": 0,
      "outputs": [
        {
          "output_type": "execute_result",
          "data": {
            "text/plain": [
              "0.9666666666666667"
            ]
          },
          "metadata": {
            "tags": []
          },
          "execution_count": 18
        }
      ]
    },
    {
      "cell_type": "markdown",
      "metadata": {
        "id": "8eejx3ikK-M3",
        "colab_type": "text"
      },
      "source": [
        "# Kemudian menggunakan PCA dan menghitung variance dari setiap atribut"
      ]
    },
    {
      "cell_type": "code",
      "metadata": {
        "id": "TI8rROOIKkGU",
        "colab_type": "code",
        "outputId": "2717f3ce-7f05-4d2b-8493-21aca1db5abf",
        "colab": {
          "base_uri": "https://localhost:8080/",
          "height": 36
        }
      },
      "source": [
        "# membuat objek PCA dengan 4 principal component\n",
        "pca = PCA(n_components=4)\n",
        "# mengaplikasikan PCA pada dataset\n",
        "pca_attributes = pca.fit_transform(X_train)\n",
        "# melihat variance dari setiap atribut\n",
        "pca.explained_variance_ratio_"
      ],
      "execution_count": 0,
      "outputs": [
        {
          "output_type": "execute_result",
          "data": {
            "text/plain": [
              "array([0.92482287, 0.05337996, 0.01700498, 0.00479219])"
            ]
          },
          "metadata": {
            "tags": []
          },
          "execution_count": 19
        }
      ]
    },
    {
      "cell_type": "markdown",
      "metadata": {
        "id": "BM7put2XLOVZ",
        "colab_type": "text"
      },
      "source": [
        "# Melihat dari variance sebelumnya kita bisa mengambil 2 principal component terbaik karena total variance nya adalah 0.969 yang sudah cukup tinggi."
      ]
    },
    {
      "cell_type": "code",
      "metadata": {
        "id": "xf24mjhcLGy8",
        "colab_type": "code",
        "colab": {}
      },
      "source": [
        "pca = PCA(n_components = 2)\n",
        "X_train_pca = pca.fit_transform(X_train)\n",
        "X_test_pca = pca.fit_transform(X_test)"
      ],
      "execution_count": 0,
      "outputs": []
    },
    {
      "cell_type": "markdown",
      "metadata": {
        "id": "andgGAsDLhBh",
        "colab_type": "text"
      },
      "source": [
        "# menguji akurasi dari classifier setelah menggunakan PCA."
      ]
    },
    {
      "cell_type": "code",
      "metadata": {
        "id": "U8mc5i8dLVLh",
        "colab_type": "code",
        "outputId": "5e458847-5b20-4d31-bc8d-e68d72fdfece",
        "colab": {
          "base_uri": "https://localhost:8080/",
          "height": 36
        }
      },
      "source": [
        "model2 = decision_tree.fit(X_train_pca, y_train)\n",
        "model2.score(X_test_pca, y_test)"
      ],
      "execution_count": 0,
      "outputs": [
        {
          "output_type": "execute_result",
          "data": {
            "text/plain": [
              "0.9666666666666667"
            ]
          },
          "metadata": {
            "tags": []
          },
          "execution_count": 22
        }
      ]
    },
    {
      "cell_type": "code",
      "metadata": {
        "id": "i8sx4d8AzuJS",
        "colab_type": "code",
        "colab": {}
      },
      "source": [
        ""
      ],
      "execution_count": 0,
      "outputs": []
    }
  ]
}